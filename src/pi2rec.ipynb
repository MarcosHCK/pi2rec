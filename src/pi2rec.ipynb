{
 "cells": [
  {
   "cell_type": "markdown",
   "metadata": {},
   "source": [
    "Import pi2rec model and dataset classes"
   ]
  },
  {
   "cell_type": "code",
   "execution_count": 3,
   "metadata": {},
   "outputs": [],
   "source": [
    "from dataset import Dataset\n",
    "from model import Pi2REC\n"
   ]
  },
  {
   "cell_type": "markdown",
   "metadata": {},
   "source": [
    "Create model instance (with checkpoint directory and prefix, which, if exists, loads latest checkpoint available)"
   ]
  },
  {
   "cell_type": "code",
   "execution_count": 4,
   "metadata": {},
   "outputs": [],
   "source": [
    "model = Pi2REC ('../checkpoints/', 'chkp')\n"
   ]
  },
  {
   "cell_type": "markdown",
   "metadata": {},
   "source": [
    "Create dataset instance (from an specific directory, using an specific mask)"
   ]
  },
  {
   "cell_type": "code",
   "execution_count": 6,
   "metadata": {},
   "outputs": [],
   "source": [
    "dataset = Dataset ('../../dataset4/', '../mask.svg', True)\n"
   ]
  },
  {
   "cell_type": "markdown",
   "metadata": {},
   "source": [
    "Prepare dataset for training (shuffle input samples, etc.)"
   ]
  },
  {
   "cell_type": "code",
   "execution_count": 7,
   "metadata": {},
   "outputs": [],
   "source": [
    "dataset = dataset.shuffle (400)\n",
    "dataset = dataset.batch (1)\n"
   ]
  },
  {
   "cell_type": "markdown",
   "metadata": {},
   "source": [
    "Actually train the model"
   ]
  },
  {
   "cell_type": "code",
   "execution_count": 8,
   "metadata": {},
   "outputs": [
    {
     "name": "stderr",
     "output_type": "stream",
     "text": [
      "2024-06-06 15:43:01.467451: W external/local_tsl/tsl/framework/cpu_allocator_impl.cc:83] Allocation of 36578304 exceeds 10% of free system memory.\n",
      "2024-06-06 15:43:01.494325: W external/local_tsl/tsl/framework/cpu_allocator_impl.cc:83] Allocation of 37283232 exceeds 10% of free system memory.\n",
      "2024-06-06 15:43:01.556323: W external/local_tsl/tsl/framework/cpu_allocator_impl.cc:83] Allocation of 95883264 exceeds 10% of free system memory.\n",
      "2024-06-06 15:43:01.579368: W external/local_tsl/tsl/framework/cpu_allocator_impl.cc:83] Allocation of 95883264 exceeds 10% of free system memory.\n",
      "2024-06-06 15:43:01.584402: W external/local_tsl/tsl/framework/cpu_allocator_impl.cc:83] Allocation of 95883264 exceeds 10% of free system memory.\n",
      "2024-06-06 15:43:05.011921: W tensorflow/core/kernels/data/prefetch_autotuner.cc:52] Prefetch autotuner tried to allocate 25165824 bytes after encountering the first element of size 25165824 bytes.This already causes the autotune ram budget to be exceeded. To stay within the ram budget, either increase the ram budget or reduce element size\n",
      "2024-06-06 15:43:05.125725: I tensorflow/core/grappler/optimizers/data/replicate_on_split.cc:32] Running replicate on split optimization\n"
     ]
    },
    {
     "name": "stdout",
     "output_type": "stream",
     "text": [
      "k\n"
     ]
    }
   ],
   "source": [
    "model.train (dataset, '../logs/')\n"
   ]
  },
  {
   "cell_type": "markdown",
   "metadata": {},
   "source": [
    "Freeze model into keras format (both model and weights)"
   ]
  },
  {
   "cell_type": "code",
   "execution_count": null,
   "metadata": {},
   "outputs": [],
   "source": [
    "model.generator.save ('pi2rec.keras')\n"
   ]
  }
 ],
 "metadata": {
  "kernelspec": {
   "display_name": "env",
   "language": "python",
   "name": "python3"
  },
  "language_info": {
   "codemirror_mode": {
    "name": "ipython",
    "version": 3
   },
   "file_extension": ".py",
   "mimetype": "text/x-python",
   "name": "python",
   "nbconvert_exporter": "python",
   "pygments_lexer": "ipython3",
   "version": "3.9.9"
  }
 },
 "nbformat": 4,
 "nbformat_minor": 2
}
